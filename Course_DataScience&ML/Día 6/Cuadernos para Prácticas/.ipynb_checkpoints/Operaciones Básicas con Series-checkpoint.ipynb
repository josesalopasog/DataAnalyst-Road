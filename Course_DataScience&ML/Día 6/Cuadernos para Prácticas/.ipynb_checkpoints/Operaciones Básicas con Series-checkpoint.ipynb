{
 "cells": [
  {
   "cell_type": "code",
   "execution_count": 30,
   "id": "4fd2cfc9",
   "metadata": {},
   "outputs": [],
   "source": [
    "import pandas as pd\n",
    "import numpy as np "
   ]
  },
  {
   "cell_type": "code",
   "execution_count": 4,
   "id": "9e5b4647",
   "metadata": {},
   "outputs": [
    {
     "data": {
      "text/plain": [
       "0    10\n",
       "1    20\n",
       "2    30\n",
       "3    40\n",
       "4    50\n",
       "dtype: int64"
      ]
     },
     "execution_count": 4,
     "metadata": {},
     "output_type": "execute_result"
    }
   ],
   "source": [
    "serie = pd.Series([10, 20, 30, 40, 50])\n",
    "serie"
   ]
  },
  {
   "cell_type": "code",
   "execution_count": 8,
   "id": "18f0ae4b-1522-4af7-8ff1-308353b3c542",
   "metadata": {},
   "outputs": [
    {
     "data": {
      "text/plain": [
       "0    30\n",
       "1    20\n",
       "2    30\n",
       "3    40\n",
       "4    50\n",
       "dtype: int64"
      ]
     },
     "execution_count": 8,
     "metadata": {},
     "output_type": "execute_result"
    }
   ],
   "source": [
    "serie[0] = serie[0] + 10\n",
    "serie"
   ]
  },
  {
   "cell_type": "code",
   "execution_count": 12,
   "id": "414cb0d6-4f96-4c80-9e8e-03028711f985",
   "metadata": {},
   "outputs": [
    {
     "data": {
      "text/plain": [
       "0    50\n",
       "1    40\n",
       "2    50\n",
       "3    60\n",
       "4    70\n",
       "dtype: int64"
      ]
     },
     "execution_count": 12,
     "metadata": {},
     "output_type": "execute_result"
    }
   ],
   "source": [
    "serie = serie + 10\n",
    "serie"
   ]
  },
  {
   "cell_type": "code",
   "execution_count": 14,
   "id": "8b9253a8-854b-4441-8a1d-0767a2aeb9cd",
   "metadata": {},
   "outputs": [
    {
     "data": {
      "text/plain": [
       "0    100\n",
       "1     80\n",
       "2    100\n",
       "3    120\n",
       "4    140\n",
       "dtype: int64"
      ]
     },
     "execution_count": 14,
     "metadata": {},
     "output_type": "execute_result"
    }
   ],
   "source": [
    "serie = serie * 2 \n",
    "serie"
   ]
  },
  {
   "cell_type": "code",
   "execution_count": 16,
   "id": "70f3026a-86a3-47e6-97cf-8b1ede3a4511",
   "metadata": {},
   "outputs": [
    {
     "name": "stdout",
     "output_type": "stream",
     "text": [
      "0     2\n",
      "1     4\n",
      "2     6\n",
      "3     8\n",
      "4    10\n",
      "dtype: int64\n"
     ]
    }
   ],
   "source": [
    "serie1 = pd.Series([1,2,3,4,5])\n",
    "serie2 = pd.Series([1,2,3,4,5])\n",
    "\n",
    "serie_sumada = serie1 + serie2\n",
    "\n",
    "print(serie_sumada)"
   ]
  },
  {
   "cell_type": "code",
   "execution_count": 22,
   "id": "635d5a00-53cf-4246-bc6d-7c12a27f8c40",
   "metadata": {},
   "outputs": [
    {
     "name": "stdout",
     "output_type": "stream",
     "text": [
      "0     2\n",
      "1     4\n",
      "2     6\n",
      "3     8\n",
      "4    10\n",
      "dtype: int64 0    0.1\n",
      "1    0.2\n",
      "2    0.3\n",
      "3    0.4\n",
      "4    0.5\n",
      "dtype: float64\n"
     ]
    }
   ],
   "source": [
    "serie_numerica = pd.Series([1,2,3,4,5])\n",
    "\n",
    "serie_doble = serie_numerica*2 \n",
    "serie_dividida = serie_numerica/10\n",
    "\n",
    "print(serie_doble,serie_dividida)\n"
   ]
  },
  {
   "cell_type": "code",
   "execution_count": 34,
   "id": "c8dc74d7-6499-4315-9e63-93e166be0b96",
   "metadata": {},
   "outputs": [
    {
     "data": {
      "text/plain": [
       "3.0"
      ]
     },
     "execution_count": 34,
     "metadata": {},
     "output_type": "execute_result"
    }
   ],
   "source": [
    "serie_grande = pd.Series([1,2,3,4,5,6,7,8,9,10])\n",
    "np.sqrt(serie_grande[8])"
   ]
  },
  {
   "cell_type": "code",
   "execution_count": null,
   "id": "59ab0123-5d5f-4c55-acd6-7134eab9b658",
   "metadata": {},
   "outputs": [],
   "source": []
  }
 ],
 "metadata": {
  "kernelspec": {
   "display_name": "Python 3 (ipykernel)",
   "language": "python",
   "name": "python3"
  },
  "language_info": {
   "codemirror_mode": {
    "name": "ipython",
    "version": 3
   },
   "file_extension": ".py",
   "mimetype": "text/x-python",
   "name": "python",
   "nbconvert_exporter": "python",
   "pygments_lexer": "ipython3",
   "version": "3.12.4"
  }
 },
 "nbformat": 4,
 "nbformat_minor": 5
}
