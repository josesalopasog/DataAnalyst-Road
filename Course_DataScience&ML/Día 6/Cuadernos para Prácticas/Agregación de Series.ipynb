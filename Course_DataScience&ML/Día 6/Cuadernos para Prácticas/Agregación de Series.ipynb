{
 "cells": [
  {
   "cell_type": "code",
   "execution_count": 2,
   "id": "70be9b8b",
   "metadata": {},
   "outputs": [
    {
     "data": {
      "text/plain": [
       "0    10\n",
       "1    20\n",
       "2    30\n",
       "3    40\n",
       "4    50\n",
       "dtype: int64"
      ]
     },
     "execution_count": 2,
     "metadata": {},
     "output_type": "execute_result"
    }
   ],
   "source": [
    "import pandas as pd\n",
    "\n",
    "numeros = pd.Series([10, 20, 30, 40, 50])\n",
    "numeros"
   ]
  },
  {
   "cell_type": "code",
   "execution_count": 4,
   "id": "3f69b985-314c-44bd-99ea-83bd7b583b36",
   "metadata": {},
   "outputs": [
    {
     "name": "stdout",
     "output_type": "stream",
     "text": [
      "El promedio es 30.0 \n"
     ]
    }
   ],
   "source": [
    "promedio = numeros.mean()\n",
    "print(f\"El promedio es {promedio} \")"
   ]
  },
  {
   "cell_type": "code",
   "execution_count": 8,
   "id": "0f2a177c-e30a-462a-a097-529233764bb3",
   "metadata": {},
   "outputs": [
    {
     "data": {
      "text/plain": [
       "150"
      ]
     },
     "execution_count": 8,
     "metadata": {},
     "output_type": "execute_result"
    }
   ],
   "source": [
    "total = numeros.sum()\n",
    "total"
   ]
  },
  {
   "cell_type": "code",
   "execution_count": 10,
   "id": "f3f22639-e975-458d-98ca-cf90e092933d",
   "metadata": {},
   "outputs": [
    {
     "data": {
      "text/plain": [
       "50"
      ]
     },
     "execution_count": 10,
     "metadata": {},
     "output_type": "execute_result"
    }
   ],
   "source": [
    "maximo = numeros.max()\n",
    "maximo"
   ]
  },
  {
   "cell_type": "code",
   "execution_count": 12,
   "id": "a2aa2cce-a66e-4899-8411-caf61ac14966",
   "metadata": {},
   "outputs": [
    {
     "data": {
      "text/plain": [
       "10"
      ]
     },
     "execution_count": 12,
     "metadata": {},
     "output_type": "execute_result"
    }
   ],
   "source": [
    "minimo = numeros.min()\n",
    "minimo"
   ]
  },
  {
   "cell_type": "code",
   "execution_count": 29,
   "id": "d72e522e-3985-4933-ada9-8a2643534fc8",
   "metadata": {},
   "outputs": [
    {
     "name": "stdout",
     "output_type": "stream",
     "text": [
      "Lunes        120\n",
      "Martes       150\n",
      "Miercoles     90\n",
      "Jueves       200\n",
      "Viernes      210\n",
      "Sabado       130\n",
      "Domingo      160\n",
      "dtype: int64\n",
      "1060\n",
      "210\n",
      "151.42857142857142\n"
     ]
    }
   ],
   "source": [
    "ventas = [120, 150, 90, 200, 210, 130, 160]\n",
    "dias_semana = ['Lunes','Martes','Miercoles','Jueves','Viernes','Sabado','Domingo']\n",
    "\n",
    "\n",
    "ventas_serie = pd.Series(ventas,dias_semana)\n",
    "print(ventas_serie)\n",
    "\n",
    "suma_total_ventas = ventas_serie.sum()\n",
    "print(suma_total_ventas)\n",
    "\n",
    "dia_mayores_ventas = ventas_serie.max()\n",
    "print(dia_mayores_ventas)\n",
    "\n",
    "promedio_ventas = ventas_serie.mean()\n",
    "print(promedio_ventas)"
   ]
  },
  {
   "cell_type": "code",
   "execution_count": null,
   "id": "49e9150b-5201-4189-9d63-861456856e5f",
   "metadata": {},
   "outputs": [],
   "source": []
  },
  {
   "cell_type": "code",
   "execution_count": null,
   "id": "ef2dd00d-9f0a-43c7-917e-0b5ae6e1f44f",
   "metadata": {},
   "outputs": [],
   "source": []
  }
 ],
 "metadata": {
  "kernelspec": {
   "display_name": "Python 3 (ipykernel)",
   "language": "python",
   "name": "python3"
  },
  "language_info": {
   "codemirror_mode": {
    "name": "ipython",
    "version": 3
   },
   "file_extension": ".py",
   "mimetype": "text/x-python",
   "name": "python",
   "nbconvert_exporter": "python",
   "pygments_lexer": "ipython3",
   "version": "3.12.4"
  }
 },
 "nbformat": 4,
 "nbformat_minor": 5
}
